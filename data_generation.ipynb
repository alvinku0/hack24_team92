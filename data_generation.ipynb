{
 "cells": [
  {
   "cell_type": "code",
   "execution_count": 9,
   "metadata": {},
   "outputs": [],
   "source": [
    "import csv\n",
    "import random\n",
    "from datetime import datetime, timedelta"
   ]
  },
  {
   "cell_type": "code",
   "execution_count": 10,
   "metadata": {},
   "outputs": [],
   "source": [
    "# Flight details (as a base for generating events)\n",
    "flights = [\n",
    "    {'AirCode': 'UO901', 'AirplaneModel': 'Airbus A320', 'Passengers': 180, 'FromAirport': 'HKG', 'ToAirport': 'TYO', 'DateTime': '11/1/24 8:00', 'Totals': {'Cups': 300, 'Cutleries': 150, 'Food Waste (kg)': 45, 'Liquid (L)': 35, 'One-time Food Containers': 150, 'Aluminum Cans': 80, 'Non-recyclable Waste (kg)': 60}},\n",
    "    {'AirCode': 'UO902', 'AirplaneModel': 'Airbus A320', 'Passengers': 159, 'FromAirport': 'TYO', 'ToAirport': 'TPE', 'DateTime': '11/1/24 9:30', 'Totals': {'Cups': 360, 'Cutleries': 180, 'Food Waste (kg)': 52, 'Liquid (L)': 40, 'One-time Food Containers': 180, 'Aluminum Cans': 90, 'Non-recyclable Waste (kg)': 70}},\n",
    "    {'AirCode': 'UO903', 'AirplaneModel': 'Airbus A320', 'Passengers': 180, 'FromAirport': 'TPE', 'ToAirport': 'HKG', 'DateTime': '11/1/24 12:30', 'Totals': {'Cups': 700, 'Cutleries': 350, 'Food Waste (kg)': 120, 'Liquid (L)': 90, 'One-time Food Containers': 350, 'Aluminum Cans': 190, 'Non-recyclable Waste (kg)': 150}},\n",
    "    {'AirCode': 'UO901', 'AirplaneModel': 'Airbus A320', 'Passengers': 138, 'FromAirport': 'DFW', 'ToAirport': 'DEN', 'DateTime': '11/2/24 8:00', 'Totals': {'Cups': 400, 'Cutleries': 200, 'Food Waste (kg)': 60, 'Liquid (L)': 50, 'One-time Food Containers': 150, 'Aluminum Cans': 100, 'Non-recyclable Waste (kg)': 80}},\n",
    "    {'AirCode': 'UO902', 'AirplaneModel': 'Airbus A320', 'Passengers': 180, 'FromAirport': 'DXB', 'ToAirport': 'LHR', 'DateTime': '11/2/24 9:30', 'Totals': {'Cups': 1000, 'Cutleries': 500, 'Food Waste (kg)': 200, 'Liquid (L)': 150, 'One-time Food Containers': 80, 'Aluminum Cans': 250, 'Non-recyclable Waste (kg)': 220}},\n",
    "    {'AirCode': 'UO903', 'AirplaneModel': 'Airbus A320', 'Passengers': 154, 'FromAirport': 'CDG', 'ToAirport': 'JFK', 'DateTime': '11/2/24 12:30', 'Totals': {'Cups': 440, 'Cutleries': 220, 'Food Waste (kg)': 70, 'Liquid (L)': 55, 'One-time Food Containers': 120, 'Aluminum Cans': 110, 'Non-recyclable Waste (kg)': 90}},\n",
    "    {'AirCode': 'UO901', 'AirplaneModel': 'Airbus A320', 'Passengers': 128, 'FromAirport': 'FRA', 'ToAirport': 'HND', 'DateTime': '11/3/24 8:00', 'Totals': {'Cups': 600, 'Cutleries': 300, 'Food Waste (kg)': 90, 'Liquid (L)': 75, 'One-time Food Containers': 100, 'Aluminum Cans': 51, 'Non-recyclable Waste (kg)': 70}},\n",
    "    {'AirCode': 'UO902', 'AirplaneModel': 'Airbus A320', 'Passengers': 153, 'FromAirport': 'DXB', 'ToAirport': 'SYD', 'DateTime': '11/3/24 9:30', 'Totals': {'Cups': 800, 'Cutleries': 400, 'Food Waste (kg)': 150, 'Liquid (L)': 110, 'One-time Food Containers': 90, 'Aluminum Cans': 41, 'Non-recyclable Waste (kg)': 80}},\n",
    "    {'AirCode': 'UO903', 'AirplaneModel': 'Airbus A320', 'Passengers': 122, 'FromAirport': 'JFK', 'ToAirport': 'LHR', 'DateTime': '11/3/24 12:30', 'Totals': {'Cups': 560, 'Cutleries': 280, 'Food Waste (kg)': 85, 'Liquid (L)': 70, 'One-time Food Containers': 70, 'Aluminum Cans': 31, 'Non-recyclable Waste (kg)': 60}},\n",
    "    {'AirCode': 'UO903', 'AirplaneModel': 'Airbus A320', 'Passengers': 164, 'FromAirport': 'HKG', 'ToAirport': 'TYO', 'DateTime': '11/4/24 8:00', 'Totals': {'Cups': 560, 'Cutleries': 200, 'Food Waste (kg)': 65, 'Liquid (L)': 84, 'One-time Food Containers': 89, 'Aluminum Cans': 61, 'Non-recyclable Waste (kg)': 50}},\n",
    "    {'AirCode': 'UO903', 'AirplaneModel': 'Airbus A320', 'Passengers': 153, 'FromAirport': 'TYO', 'ToAirport': 'TPE', 'DateTime': '11/4/24 9:30', 'Totals': {'Cups': 560, 'Cutleries': 260, 'Food Waste (kg)': 98, 'Liquid (L)': 58, 'One-time Food Containers': 74, 'Aluminum Cans': 61, 'Non-recyclable Waste (kg)': 80}},\n",
    "    {'AirCode': 'UO903', 'AirplaneModel': 'Airbus A320', 'Passengers': 121, 'FromAirport': 'TPE', 'ToAirport': 'HKG', 'DateTime': '11/4/24 12:30', 'Totals': {'Cups': 560, 'Cutleries': 210, 'Food Waste (kg)': 105, 'Liquid (L)': 57, 'One-time Food Containers': 56, 'Aluminum Cans': 41, 'Non-recyclable Waste (kg)': 60}},\n",
    "    {'AirCode': 'UO903', 'AirplaneModel': 'Airbus A320', 'Passengers': 146, 'FromAirport': 'HKG', 'ToAirport': 'TYO', 'DateTime': '11/5/24 8:00', 'Totals': {'Cups': 560, 'Cutleries': 150, 'Food Waste (kg)': 120, 'Liquid (L)': 38, 'One-time Food Containers': 51, 'Aluminum Cans': 31, 'Non-recyclable Waste (kg)': 60}},\n",
    "    {'AirCode': 'UO903', 'AirplaneModel': 'Airbus A320', 'Passengers': 157, 'FromAirport': 'TYO', 'ToAirport': 'TPE', 'DateTime': '11/5/24 9:30', 'Totals': {'Cups': 560, 'Cutleries': 300, 'Food Waste (kg)': 130, 'Liquid (L)': 68, 'One-time Food Containers': 41, 'Aluminum Cans': 21, 'Non-recyclable Waste (kg)': 60}},\n",
    "    {'AirCode': 'UO903', 'AirplaneModel': 'Airbus A320', 'Passengers': 172, 'FromAirport': 'TPE', 'ToAirport': 'HKG', 'DateTime': '11/5/24 12:30', 'Totals': {'Cups': 560, 'Cutleries': 270, 'Food Waste (kg)': 155, 'Liquid (L)': 35, 'One-time Food Containers': 31, 'Aluminum Cans': 21, 'Non-recyclable Waste (kg)': 40}},\n",
    "]"
   ]
  },
  {
   "cell_type": "code",
   "execution_count": 11,
   "metadata": {},
   "outputs": [],
   "source": [
    "\n",
    "\n",
    "# Item types and their units\n",
    "item_types = {\n",
    "    'Cups': 'pieces',\n",
    "    'Cutleries': 'pieces',\n",
    "    'Food Waste (kg)': 'kg',\n",
    "    'Liquid (L)': 'liters',\n",
    "    'One-time Food Containers': 'pieces',\n",
    "    'Aluminum Cans': 'pieces',\n",
    "    'Non-recyclable Waste (kg)': 'kg',\n",
    "}\n",
    "\n",
    "# Generate raw IoT data\n",
    "with open('iot_raw_data.csv', 'w', newline='') as csvfile:\n",
    "    fieldnames = ['Timestamp', 'AirCode', 'AirplaneModel', 'Passengers', 'FromAirport', 'ToAirport', 'DateTime', 'ItemType', 'Amount']\n",
    "    writer = csv.DictWriter(csvfile, fieldnames=fieldnames)\n",
    "    writer.writeheader()\n",
    "    \n",
    "    for flight in flights:\n",
    "        flight_datetime = datetime.strptime(flight['DateTime'], '%m/%d/%y %H:%M')\n",
    "        for item, total_quantity in flight['Totals'].items():\n",
    "            unit = item_types[item]\n",
    "            # Divide the total_quantity into random increments\n",
    "            remaining_quantity = total_quantity\n",
    "            increments = []\n",
    "            num_events = random.randint(5, 10)\n",
    "            for _ in range(num_events - 1):\n",
    "                increment = random.uniform(1, remaining_quantity / (num_events - _))\n",
    "                increments.append(round(increment, 2))\n",
    "                remaining_quantity -= increment\n",
    "            increments.append(round(remaining_quantity, 2))  # Last increment\n",
    "            \n",
    "            # Generate events\n",
    "            for increment in increments:\n",
    "                timestamp = flight_datetime + timedelta(minutes=random.randint(0, 120))\n",
    "                writer.writerow({\n",
    "                    'Timestamp': timestamp.strftime('%m/%d/%y %H:%M'),\n",
    "                    'AirCode': flight['AirCode'],\n",
    "                    'AirplaneModel': flight['AirplaneModel'],\n",
    "                    'Passengers': flight['Passengers'],\n",
    "                    'FromAirport': flight['FromAirport'],\n",
    "                    'ToAirport': flight['ToAirport'],\n",
    "                    'DateTime': flight['DateTime'],\n",
    "                    'ItemType': item,\n",
    "                    'Amount': increment,\n",
    "                })"
   ]
  }
 ],
 "metadata": {
  "kernelspec": {
   "display_name": ".venv",
   "language": "python",
   "name": "python3"
  },
  "language_info": {
   "codemirror_mode": {
    "name": "ipython",
    "version": 3
   },
   "file_extension": ".py",
   "mimetype": "text/x-python",
   "name": "python",
   "nbconvert_exporter": "python",
   "pygments_lexer": "ipython3",
   "version": "3.11.9"
  }
 },
 "nbformat": 4,
 "nbformat_minor": 2
}
